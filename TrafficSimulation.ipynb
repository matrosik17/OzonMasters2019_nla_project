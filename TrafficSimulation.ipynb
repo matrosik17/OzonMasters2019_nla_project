{
 "cells": [
  {
   "cell_type": "markdown",
   "metadata": {},
   "source": [
    "# Расчет дифференциальных уравнений на графах"
   ]
  },
  {
   "cell_type": "markdown",
   "metadata": {},
   "source": [
    "## Задача 1. Моделирование транспортных потоков"
   ]
  },
  {
   "cell_type": "markdown",
   "metadata": {},
   "source": [
    "### Часть 1. Модель транспортного потока"
   ]
  },
  {
   "cell_type": "markdown",
   "metadata": {},
   "source": [
    "Для моделирования транспортных потоков будем использовать макроскопический подход.\n",
    "\n",
    "Уравнения, описывающие поведение потока на автостраде:\n",
    "$$\n",
    "\\begin{cases}\n",
    "    & \\rho_t + (\\rho u)_x = 0 \\\\\n",
    "    & (\\rho \\omega)_t + (\\rho u \\omega)_x = 0 \\\\\n",
    "    & u = V(\\rho, \\omega)\n",
    "\\end{cases}\n",
    "$$"
   ]
  },
  {
   "cell_type": "markdown",
   "metadata": {},
   "source": [
    "Фундаментальная диаграмма задается как:\n",
    "$$\n",
    "\\begin{align*}\n",
    "    & Q_{\\alpha, \\lambda, p}(\\rho) = \\alpha \\left(\n",
    "        a + (b-a) \\frac{\\rho}{\\rho_{max}} - \\sqrt{1 + y^2}\n",
    "    \\right) \\\\\n",
    "    & a = \\sqrt{1 + \\lambda^2 p^2} \\\\\n",
    "    & b = \\sqrt{1 + \\lambda^2 (1 - p)^2} \\\\\n",
    "    & y = \\lambda \\left( \\frac{\\rho}{\\rho_{max}} - p \\right)\n",
    "\\end{align*}\n",
    "$$\n",
    "Положим, что параметры фундаментальной диаграммы зависят от $\\omega$:\n",
    "$$\n",
    "\\begin{align*}\n",
    "    & \\alpha = \\alpha(\\omega)\n",
    "    & \\lambda = \\lambda(\\omega)\n",
    "    & p = p(\\omega)\n",
    "\\end{align*}\n",
    "$$\n",
    "Алгоритм определения этой зависимсоти будет дан позже."
   ]
  },
  {
   "cell_type": "markdown",
   "metadata": {},
   "source": [
    "Скорость потока задается следующим образом:\n",
    "$$\n",
    "V(\\rho, \\omega) = \\begin{cases}\n",
    "    & \\frac{Q(\\rho, \\omega)}{\\rho} & ,\\rho > 0 \\\\\n",
    "    & Q_\\rho(0, \\omega) & ,\\rho = 0\n",
    "\\end{cases}\n",
    "$$"
   ]
  },
  {
   "cell_type": "markdown",
   "metadata": {},
   "source": [
    "Найдем $Q_\\rho(\\rho)$:\n",
    "$$\n",
    "Q_\\rho(\\rho) = \\alpha (b - a) \\frac{1}{\\rho_{max}} - \\alpha \\frac{y(\\rho)}{\\sqrt{1 + y(\\rho)^2}} \\frac{\\lambda}{\\rho_{max}}\n",
    "$$"
   ]
  },
  {
   "cell_type": "markdown",
   "metadata": {},
   "source": [
    "Заметим, что:\n",
    "$$\n",
    "\\begin{align*}\n",
    "    & y(0) = -\\lambda p \\\\\n",
    "    & \\sqrt{1 + y(0)^2} = \\sqrt{1 + \\lambda^2 p^2} = a\n",
    "\\end{align*}\n",
    "$$"
   ]
  },
  {
   "cell_type": "markdown",
   "metadata": {},
   "source": [
    "Таким образом:\n",
    "$$\n",
    "Q_\\rho(0, \\omega) = \\frac{\\alpha}{\\rho_{max}} \\left(\n",
    "    b - a + \\frac{\\lambda^2 p}{a}\n",
    "\\right)\n",
    "$$"
   ]
  },
  {
   "cell_type": "markdown",
   "metadata": {},
   "source": [
    "Также нам понадобятся следующие величины:\n",
    "$$\n",
    "\\begin{align*}\n",
    "    & \\rho_c = \\mathrm{argmax}_{\\rho}(Q_{\\alpha, \\lambda, p}(\\rho)) \\\\\n",
    "    & Q^{max}_{\\alpha, \\lambda, p} = Q_{\\alpha, \\lambda, p}(\\rho_c)\n",
    "\\end{align*}\n",
    "$$"
   ]
  },
  {
   "cell_type": "markdown",
   "metadata": {},
   "source": [
    "При этом:\n",
    "$$\n",
    "\\begin{align*}\n",
    "    & \\rho_c = \\rho_{max} \\left( p + \\frac{1}{\\lambda} \\cdot \\frac{(b-a)}{\\sqrt{\\lambda^2 - (b-a)^2}} \\right) \\\\\n",
    "\\end{align*}\n",
    "$$"
   ]
  },
  {
   "cell_type": "markdown",
   "metadata": {},
   "source": [
    "### Часть 2. Разностная схема"
   ]
  },
  {
   "cell_type": "markdown",
   "metadata": {},
   "source": [
    "Сделаем замену $y := \\rho \\omega$.\n",
    "Тогда система уравнений может быть переписана в виде:\n",
    "$$\n",
    "\\begin{cases}\n",
    "    & \\rho_t + (\\rho u)_x = 0 \\\\\n",
    "    & y_t + (u y)_x = 0 \\\\\n",
    "    & u = V(\\rho, y/\\rho)\n",
    "\\end{cases}\n",
    "$$"
   ]
  },
  {
   "cell_type": "markdown",
   "metadata": {},
   "source": [
    "Обозначим $\\mathbf{U} = (\\rho, y)$ и $\\mathbf{F}(\\mathbf{U}) = (\\rho u, u y)$. <br>\n",
    "Тогда уравнения можно записать так:\n",
    "$$\n",
    "\\mathbf{U}_t + \\mathbf{F}_x(\\mathbf{U}) = 0\n",
    "$$"
   ]
  },
  {
   "cell_type": "markdown",
   "metadata": {},
   "source": [
    "Для численного приближения данной системы будем использовать метод Годунова.\n",
    "Основная идея в применении следующей аппроксимации:\n",
    "$$\n",
    "\\mathbf{U}^n_i \\approx \\frac{1}{\\Delta x} \\int\\limits_{x_{i - 1/2}}^{x_{i + 1/2}} \\mathbf{U}(x, t_n) dx\n",
    "$$"
   ]
  },
  {
   "cell_type": "markdown",
   "metadata": {},
   "source": [
    "Конечно-разностная аппроксимация исходных уравнений выглядит как:\n",
    "$$\n",
    "\\mathbf{U}^{n+1}_i = \\mathbf{U}^{n}_i - \\frac{\\Delta t}{\\Delta x} \\left(\n",
    "    \\mathbf{F}^n_{i+1/2} - \\mathbf{F}^n_{i-1/2}\n",
    "\\right)\n",
    "$$"
   ]
  },
  {
   "cell_type": "markdown",
   "metadata": {},
   "source": [
    "Где значения потока $\\mathbf{F}$ в полуцелых узлах записывается как:\n",
    "$$\n",
    "\\begin{align*}\n",
    "    & \\mathbf{F}^n_{i + 1/2} = \\mathbf{F}( \\mathcal{R}( \\mathbf{U}^n_{i} , \\mathbf{U}^n_{i+1} ) ) \\\\\n",
    "    & \\mathbf{F}^n_{i - 1/2} = \\mathbf{F}( \\mathcal{R}( \\mathbf{U}^n_{i-1} , \\mathbf{U}^n_{i} ) )\n",
    "\\end{align*}\n",
    "$$\n",
    "Где $\\mathcal{R}(\\mathbf{U}_L, \\mathbf{U}_R)$ обозначает решение задачи Римана для начальных состояний $\\mathbf{U}_L$  и $\\mathbf{U}_R$"
   ]
  },
  {
   "cell_type": "markdown",
   "metadata": {},
   "source": [
    "Перепишем эти уравнения покомпонентно:\n",
    "$$\n",
    "\\begin{align*}\n",
    "    & \\rho^{n+1}_j = \\rho^{n}_j - \\frac{\\Delta t}{\\Delta x} \\left( Q^{n}_{j+1/2} - Q^{n}_{j-1/2} \\right) \\\\\n",
    "    & y^{n+1}_j = y^{n}_j - \\frac{\\Delta t}{\\Delta x} \\left( \\omega^n_{j} Q^{n}_{j+1/2} - \\omega^n_{j-1} Q^{n}_{j-1/2} \\right)\n",
    "\\end{align*}\n",
    "$$\n",
    "Где $\\omega^n_j = y^n_j / \\rho^n_j$"
   ]
  },
  {
   "cell_type": "markdown",
   "metadata": {},
   "source": [
    "Опишем решение задачи Римана.<br>\n",
    "\"Входной\" и \"выходной\" потоки обозначим как $\\mathbf{U}_L = (\\rho_L, \\rho_L \\omega_L)$ и $\\mathbf{U}_R = (\\rho_R, \\rho_R \\omega_R)$ соответственно."
   ]
  },
  {
   "cell_type": "markdown",
   "metadata": {},
   "source": [
    "Используемое нами решение основано на функциях \"отправки\" и \"получения\":\n",
    "$$\n",
    "\\begin{align*}\n",
    "    & S(\\rho_L, u_L, \\omega_L) = \\begin{cases}\n",
    "        & \\rho_L u_L \n",
    "        &,\\rho_L \\leq \\rho_c(\\omega_L) \\\\\n",
    "        & Q^{max}_{\\omega_L}\n",
    "        &,\\rho_L > \\rho_c(\\omega_L)\n",
    "    \\end{cases} \\\\\n",
    "    & R(\\rho_M, u_M, \\omega_L) = \\begin{cases}\n",
    "        & Q^{max}_{\\omega_L}\n",
    "        &,\\rho_M \\leq \\rho_c(\\omega_L) \\\\\n",
    "        & \\rho_M u_M\n",
    "        &,\\rho_M > \\rho_c(\\omega_L)\n",
    "    \\end{cases}\n",
    "\\end{align*}\n",
    "$$\n",
    "Где $\\rho_c(\\omega_L)$ критическая плотность при заданном параметре $\\omega_L$."
   ]
  },
  {
   "cell_type": "markdown",
   "metadata": {},
   "source": [
    "Промежуточные значения плотности и скорости задаются как:\n",
    "$$\n",
    "\\begin{align*}\n",
    "    & \\rho_M(\\omega_L, u_R) = \\mathrm{argmin}_\\rho \\left( u_R - V(\\rho, \\omega_L)\\right) \\\\\n",
    "    & u_M(\\omega_L, u_R) = \\min \\left\\{ V(0,\\omega_L), u_R \\right\\}\n",
    "\\end{align*}\n",
    "$$"
   ]
  },
  {
   "cell_type": "markdown",
   "metadata": {},
   "source": [
    "Таким образом, промежуточные значения потока вычисляются следующим образом:\n",
    "$$\n",
    "\\mathcal{R}(\\mathbf{U}_L, \\mathbf{U}_R) = \\min \\left\\{\n",
    "    S(\\rho_L, u_L, \\omega_L), R(\\rho_M, u_M, \\omega_L) \n",
    "\\right\\}\n",
    "$$"
   ]
  },
  {
   "cell_type": "markdown",
   "metadata": {},
   "source": [
    "### Часть 3. Алгоритм"
   ]
  },
  {
   "cell_type": "markdown",
   "metadata": {},
   "source": [
    "Опишем алгоритм:\n",
    "1. Находим параметр $\\omega$:\n",
    "    $$\n",
    "    \\omega^n_j = \\frac{y^n_j}{\\rho^n_j}\n",
    "    $$\n",
    "    Где $j=1,\\ldots,N$\n",
    "    <br>\n",
    "    \n",
    "1. Находим скорости в узлах:\n",
    "    $$\n",
    "        u^n_{j} = V(\\rho^n_j, \\omega^n_j)\n",
    "    $$\n",
    "    Где $j=1 \\ldots, N$\n",
    "    <br>\n",
    "    \n",
    "1. Находим промежуточные скорости:\n",
    "    $$\n",
    "    \\begin{align*}\n",
    "        & u^n_{j-1/2} = \\min \\left\\{ V(0, \\omega^n_{j-1}), u^n_{j} \\right\\}\n",
    "    \\end{align*}\n",
    "    $$\n",
    "    Где $j=2, \\dots, N$\n",
    "    <br>\n",
    "    \n",
    "1. Находим промежуточные плотности:\n",
    "    $$\n",
    "    \\begin{align*}\n",
    "        & \\rho^n_{j-1/2} = \\mathrm{argmin}_{\\rho} \\left( u^n_j - V(\\rho, \\omega^n_{j-1}) \\right)\n",
    "    \\end{align*}\n",
    "    $$\n",
    "    Где $j=2, \\ldots, N$\n",
    "    <br>\n",
    "\n",
    "2. Находим функции отправки и получения:\n",
    "    $$\n",
    "    \\begin{align*}\n",
    "        & S^n_{j-1/2} = S(\\rho^n_{j-1}, u^n_{j-1}, \\omega^n_{j-1}) \\\\\n",
    "        & R^n_{j-1/2} = R(\\rho^n_{j-1/2}, u^n_{j-1/2}, \\omega^n_{j-1})\n",
    "    \\end{align*}\n",
    "    $$\n",
    "    Где $j=2,\\ldots,N$\n",
    "    <br>\n",
    "    \n",
    "6. Учитываем граничные условия посредством функций отправки и получения:\n",
    "    $$\n",
    "    \\begin{align*}\n",
    "        & S^n_{1/2}, R^n_{1/2} \\text{-- левая граница} \\\\\n",
    "        & S^n_{N+1/2}, R^n_{N+1/2} \\text{-- правая граница}\n",
    "    \\end{align*}\n",
    "    $$\n",
    "    <br>\n",
    "\n",
    "5. Находим интенсивность потока:\n",
    "    $$\n",
    "    Q^n_{j-1/2} = \\min \\left\\{ S^n_{j-1/2}, R^n_{j-1/2} \\right\\}\n",
    "    $$\n",
    "    Где $j=1,\\ldots,N+1$\n",
    "    <br>\n",
    "\n",
    "6. Находим состояние системы на следующем временном шаге:\n",
    "    $$\n",
    "    \\begin{align*}\n",
    "        & \\rho^{n+1}_j = \\rho^{n}_j - \\frac{\\Delta t}{\\Delta x} \\left( Q^{n}_{j+1/2} - Q^{n}_{j-1/2} \\right) \\\\\n",
    "        & y^{n+1}_j = y^{n}_j - \\frac{\\Delta t}{\\Delta x} \\left( \\omega^n_{j} Q^{n}_{j+1/2} - \\omega^n_{j-1} Q^{n}_{j-1/2} \\right)\n",
    "    \\end{align*}\n",
    "    $$\n",
    "    Где $j=1,\\ldots,N$"
   ]
  },
  {
   "cell_type": "markdown",
   "metadata": {},
   "source": [
    "### Часть X. Реализация"
   ]
  },
  {
   "cell_type": "code",
   "execution_count": 119,
   "metadata": {},
   "outputs": [],
   "source": [
    "import math\n",
    "import numpy as np\n",
    "import matplotlib.pyplot as plt\n",
    "import scipy.optimize as opt"
   ]
  },
  {
   "cell_type": "markdown",
   "metadata": {},
   "source": [
    "#### Фундаментальная диаграмма"
   ]
  },
  {
   "cell_type": "code",
   "execution_count": 356,
   "metadata": {},
   "outputs": [],
   "source": [
    "class FundamentalDiagram:\n",
    "    def __init__(self, alpha, lmbda, p, rho_max):\n",
    "        self.calc_alpha = alpha\n",
    "        self.calc_lambda = lmbda\n",
    "        self.calc_p = p\n",
    "        self.rho_max = rho_max\n",
    "        \n",
    "    def calc_Q(self, rho, alpha, lmbda, p):\n",
    "        a = np.sqrt(1 + (lmbda * p)**2)\n",
    "        b = np.sqrt(1 + (lmbda * (1 - p))**2)\n",
    "        y = lmbda * (rho / self.rho_max - p)\n",
    "        \n",
    "        Q = alpha * (a + (b - a) * rho / self.rho_max - np.sqrt(1 + y**2))\n",
    "        return Q\n",
    "    \n",
    "    def Q(self, rho, omega):\n",
    "        alpha, lmbda, p = self._calc_params(omega)\n",
    "        return self.calc_Q(rho, alpha, lmbda, p)        \n",
    "    \n",
    "    def V(self, rho, omega):\n",
    "        zero_mask = np.isclose(rho, 0.)\n",
    "        \n",
    "        V = np.zeros(rho.shape)\n",
    "        if len(V[~zero_mask]) != 0:\n",
    "            V[~zero_mask] = self._calc_V_non_zero(rho[~zero_mask], omega[~zero_mask])\n",
    "        if len(V[zero_mask]) != 0:\n",
    "            V[zero_mask] = self._calc_V_zero(rho[zero_mask], omega[zero_mask])\n",
    "        return V\n",
    "    \n",
    "    def Q_max(self, rho, omega):\n",
    "        rho_c = self.rho_c(rho, omega)\n",
    "        q_max = self.Q(rho_c, omega)\n",
    "        return q_max\n",
    "    \n",
    "    def rho_c(self, rho, omega):\n",
    "        alpha, lmbda, p = self._calc_params(omega)\n",
    "        \n",
    "        a = np.sqrt(1 + (lmbda * p)**2)\n",
    "        b = np.sqrt(1 + (lmbda * (1 - p))**2)\n",
    "        y = lmbda * (rho / self.rho_max - p)\n",
    "        \n",
    "        rho_c = self.rho_max * (p + (b - a) / (lmbda * np.sqrt(lmbda**2 - (b - a)**2)) )\n",
    "        return rho_c\n",
    "    \n",
    "    def _calc_params(self, omega):\n",
    "        alpha = self.calc_alpha(omega)\n",
    "        lmbda = self.calc_lambda(omega)\n",
    "        p = self.calc_p(omega)\n",
    "        return alpha, lmbda, p\n",
    "    \n",
    "    def _calc_V_non_zero(self, rho, omega):\n",
    "        Q = self.Q(rho, omega)\n",
    "        return Q / rho\n",
    "    \n",
    "    def _calc_V_zero(self, rho, omega):\n",
    "        alpha, lmbda, p = self._calc_params(omega)\n",
    "        \n",
    "        a = np.sqrt(1 + (lmbda * p)**2)\n",
    "        b = np.sqrt(1 + (lmbda * (1 - p))**2)\n",
    "        y = lmbda * (rho / self.rho_max - p)\n",
    "        \n",
    "        Q_rho = alpha * (b - a + lmbda**2 * p / a) / self.rho_max\n",
    "        return Q_rho"
   ]
  },
  {
   "cell_type": "code",
   "execution_count": 436,
   "metadata": {},
   "outputs": [],
   "source": [
    "# alpha = np.vectorize(lambda omega: .3 * (1 - omega / 35.))\n",
    "# lmbda = np.vectorize(lambda omega: 10. * (1 - omega / 35.))\n",
    "# p = np.vectorize(lambda omega: .1 * (1 - omega / 35.))\n",
    "alpha = np.vectorize(lambda omega: .3 * (omega / 35.))\n",
    "lmbda = np.vectorize(lambda omega: 10. * (omega / 35.))\n",
    "p = np.vectorize(lambda omega: .1 * (omega / 35.))\n",
    "rho_max = 0.13\n",
    "fd = FundamentalDiagram(alpha, lmbda, p, rho_max)"
   ]
  },
  {
   "cell_type": "code",
   "execution_count": 437,
   "metadata": {
    "scrolled": false
   },
   "outputs": [
    {
     "name": "stderr",
     "output_type": "stream",
     "text": [
      "/home/matrosik/miniconda3/envs/ozon_python/lib/python3.7/site-packages/ipykernel_launcher.py:42: RuntimeWarning: invalid value encountered in true_divide\n"
     ]
    },
    {
     "name": "stdout",
     "output_type": "stream",
     "text": [
      "nan\n",
      "0.001049887703350762\n",
      "0.006001835468645432\n",
      "0.014665200453278094\n",
      "0.02644796456892507\n",
      "0.04127540712035975\n",
      "0.05944951240445529\n",
      "0.08153078550242711\n",
      "0.1082781603893966\n",
      "0.1406114029403192\n",
      "0.1795761292568087\n",
      "0.22630389747098809\n",
      "0.2819678021087412\n",
      "0.34773865247869645\n",
      "0.42474794440858205\n"
     ]
    },
    {
     "data": {
      "image/png": "[encoded data removed]",
      "text/plain": [
       "<Figure size 1080x360 with 2 Axes>"
      ]
     },
     "metadata": {
      "needs_background": "light"
     },
     "output_type": "display_data"
    }
   ],
   "source": [
    "fig, ax = plt.subplots(1, 2, figsize=(15, 5))\n",
    "\n",
    "rho = np.linspace(0, rho_max, 100)\n",
    "for w in np.linspace(0., 34., 15):\n",
    "    \n",
    "    omega = w * np.ones(rho.shape)\n",
    "    q = fd.Q(rho, omega)\n",
    "    v = fd.V(rho, omega)\n",
    "    rho_c = fd.rho_c(rho, omega)\n",
    "    q_max = fd.Q_max(rho, omega)\n",
    "    \n",
    "    print(q_max[0])\n",
    "    \n",
    "    ax[0].plot(rho, q)\n",
    "    ax[0].vlines(x=rho_c[0], ymin=0, ymax=q_max[0])\n",
    "    ax[0].hlines(y=q_max[0], xmin=0, xmax=rho_max)\n",
    "\n",
    "    ax[1].plot(rho, v)\n",
    "plt.show()"
   ]
  },
  {
   "cell_type": "markdown",
   "metadata": {},
   "source": [
    "#### Ребро графа"
   ]
  },
  {
   "cell_type": "code",
   "execution_count": 785,
   "metadata": {},
   "outputs": [],
   "source": [
    "class Edge:\n",
    "    def __init__(self, fundamental_diagram, length, dx):\n",
    "        # estimate number of segments\n",
    "        self.n = int(length / dx)\n",
    "        self.dx = length / self.n\n",
    "        # init edge\n",
    "        self.fd = fundamental_diagram\n",
    "        self.rho = np.zeros(self.n)\n",
    "        self.omega = 30. * np.ones(self.n)\n",
    "#         self.rho_bounds = opt.Bounds(0., self.fd.rho_max)\n",
    "    \n",
    "    def update(self, dt, flow_in, Q_out_max):\n",
    "        y = self.rho * self.omega\n",
    "        u = self._calc_u(self.rho, self.omega)\n",
    "        print(u)\n",
    "        # calc u_N, rho_M\n",
    "        uM = self._calc_uM(self.omega, u)\n",
    "        rhoM = self._calc_rhoM(self.omega, u)\n",
    "        # calc S\n",
    "        S = self._calc_S(self.rho[:-1], u[:-1], self.omega[:-1])\n",
    "        # calc R\n",
    "        R = self._calc_R(rhoM, uM, self.omega[:-1])\n",
    "        # calc Q\n",
    "        rho_in, omega_in = flow_in\n",
    "        u_in = self.fd.V(np.array([rho_in]), np.array([omega_in]))\n",
    "        Q_in = rho_in * u_in\n",
    "        print(Q_in)\n",
    "        Q = np.zeros(self.n + 1)\n",
    "        Q[1:-1] = np.minimum(S, R)\n",
    "        Q[-1] = Q[-2]\n",
    "        Q[0] = Q_in\n",
    "        # update state\n",
    "        self.rho -= (dt / self.dx) * (Q[1:] - Q[:-1])\n",
    "        y -= (dt / self.dx) * (self.omega * Q[1:] - self.omega * Q[:-1])\n",
    "        self.omega = self._calc_omega(self.rho, y)\n",
    "        \n",
    "    def _calc_omega(self, rho, y):\n",
    "        if np.isclose(rho, 0.).any():\n",
    "            return 34. * np.ones(rho.shape)\n",
    "        else:\n",
    "            return y / rho\n",
    "        \n",
    "    def _calc_u(self, rho, omega):\n",
    "        return self.fd.V(rho, omega)\n",
    "    \n",
    "    def _calc_uM(self, omega, u):\n",
    "        omegaL = omega[:-1]\n",
    "        uR = u[1:]\n",
    "        uML = self.fd.V(np.zeros(self.n-1), omegaL)\n",
    "        return np.minimum(uML, uR)\n",
    "    \n",
    "    def _calc_rhoM(self, omega, u):\n",
    "        omegaL = omega[:-1]\n",
    "        uR = u[1:]\n",
    "        func = lambda rho: uR - self.fd.V(rho, omegaL)\n",
    "        sol = opt.fsolve(func, self.rho[:-1])\n",
    "        return sol\n",
    "    \n",
    "    def _calc_S(self, rhoL, uL, omegaL):\n",
    "        rho_c = self.fd.rho_c(self.rho[:-1], omegaL)\n",
    "        Qmax = self.fd.Q_max(self.rho[:-1], omegaL)\n",
    "        rho_mask = rhoL > rho_c\n",
    "        # calc S\n",
    "        S = np.zeros(rhoL.shape)\n",
    "        S[~rho_mask] = (rhoL * uL)[~rho_mask]\n",
    "        S[rho_mask] = Qmax[rho_mask]\n",
    "        return S\n",
    "    \n",
    "    def _calc_R(self, rhoM, uM, omegaL):\n",
    "        rho_c = self.fd.rho_c(self.rho[:-1], omegaL)\n",
    "        Qmax = self.fd.Q_max(self.rho[:-1], omegaL)\n",
    "        rho_mask = rhoM > rho_c\n",
    "        # calc R\n",
    "        R = np.zeros(rhoM.shape)\n",
    "        R[~rho_mask] = Qmax[~rho_mask]\n",
    "        R[rho_mask] = (rhoM * uM)[rho_mask]\n",
    "        return R"
   ]
  },
  {
   "cell_type": "code",
   "execution_count": 789,
   "metadata": {},
   "outputs": [],
   "source": [
    "edge = Edge(fd, 150., 10.)"
   ]
  },
  {
   "cell_type": "code",
   "execution_count": 790,
   "metadata": {
    "scrolled": true
   },
   "outputs": [
    {
     "name": "stdout",
     "output_type": "stream",
     "text": [
      "[23.21078888 23.21078888 23.21078888 23.21078888 23.21078888 23.21078888\n",
      " 23.21078888 23.21078888 23.21078888 23.21078888 23.21078888 23.21078888\n",
      " 23.21078888 23.21078888 23.21078888]\n",
      "[0.]\n"
     ]
    },
    {
     "data": {
      "image/png": "[encoded data removed]",
      "text/plain": [
       "<Figure size 432x288 with 1 Axes>"
      ]
     },
     "metadata": {
      "needs_background": "light"
     },
     "output_type": "display_data"
    }
   ],
   "source": [
    "x = np.linspace(0, 150., edge.n)\n",
    "for i in range(1):\n",
    "    edge.update(.01, [.13, 20.], .13)\n",
    "    if i%1 == 0:\n",
    "        plt.plot(x, edge.rho)"
   ]
  },
  {
   "cell_type": "code",
   "execution_count": 771,
   "metadata": {},
   "outputs": [
    {
     "data": {
      "text/plain": [
       "array([5.56242680e-03, 4.19009242e-04, 1.81152727e-05, 4.42875238e-07,\n",
       "       5.77925886e-09, 3.14371025e-11, 0.00000000e+00, 0.00000000e+00,\n",
       "       0.00000000e+00, 0.00000000e+00, 0.00000000e+00, 0.00000000e+00,\n",
       "       0.00000000e+00, 0.00000000e+00, 0.00000000e+00])"
      ]
     },
     "execution_count": 771,
     "metadata": {},
     "output_type": "execute_result"
    }
   ],
   "source": [
    "edge.rho"
   ]
  },
  {
   "cell_type": "code",
   "execution_count": 537,
   "metadata": {},
   "outputs": [
    {
     "data": {
      "text/plain": [
       "array([34., 34., 34., 34., 34., 34., 34., 34., 34., 34., 34., 34., 34.,\n",
       "       34., 34., 34., 34., 34., 34., 34., 34., 34., 34., 34., 34., 34.,\n",
       "       34., 34., 34., 34.])"
      ]
     },
     "execution_count": 537,
     "metadata": {},
     "output_type": "execute_result"
    }
   ],
   "source": [
    "edge.omega"
   ]
  },
  {
   "cell_type": "markdown",
   "metadata": {},
   "source": [
    "#### Вершина графа"
   ]
  },
  {
   "cell_type": "code",
   "execution_count": 435,
   "metadata": {},
   "outputs": [],
   "source": [
    "class Node:\n",
    "    def __init__(self):\n",
    "        pass"
   ]
  },
  {
   "cell_type": "code",
   "execution_count": null,
   "metadata": {},
   "outputs": [],
   "source": []
  }
 ],
 "metadata": {
  "kernelspec": {
   "display_name": "Python 3",
   "language": "python",
   "name": "python3"
  },
  "language_info": {
   "codemirror_mode": {
    "name": "ipython",
    "version": 3
   },
   "file_extension": ".py",
   "mimetype": "text/x-python",
   "name": "python",
   "nbconvert_exporter": "python",
   "pygments_lexer": "ipython3",
   "version": "3.7.3"
  }
 },
 "nbformat": 4,
 "nbformat_minor": 2
}
