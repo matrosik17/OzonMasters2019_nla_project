{
 "cells": [
  {
   "cell_type": "markdown",
   "metadata": {},
   "source": [
    "# Расчет дифференциальных уравнений на графах"
   ]
  },
  {
   "cell_type": "markdown",
   "metadata": {},
   "source": [
    "## Задача 1. Моделирование транспортных потоков"
   ]
  },
  {
   "cell_type": "markdown",
   "metadata": {},
   "source": [
    "### Часть 1. Модель транспортного потока"
   ]
  },
  {
   "cell_type": "markdown",
   "metadata": {},
   "source": [
    "Для моделирования транспортных потоков будем использовать макроскопический подход.\n",
    "\n",
    "Уравнения, описывающие поведение потока на автостраде:\n",
    "$$\n",
    "\\begin{cases}\n",
    "    & \\rho_t + (\\rho u)_x = 0 \\\\\n",
    "    & (\\rho \\omega)_t + (\\rho u \\omega)_x = 0 \\\\\n",
    "    & u = V(\\rho, \\omega)\n",
    "\\end{cases}\n",
    "$$"
   ]
  },
  {
   "cell_type": "markdown",
   "metadata": {},
   "source": [
    "Фундаментальная диаграмма задается как:\n",
    "$$\n",
    "\\begin{align*}\n",
    "    & Q_{\\alpha, \\lambda, p}(\\rho) = \\alpha \\left(\n",
    "        a + (b-a) \\frac{\\rho}{\\rho_{max}} - \\sqrt{1 + y^2}\n",
    "    \\right) \\\\\n",
    "    & a = \\sqrt{1 + (\\lambda p)^2} \\\\\n",
    "    & b = \\sqrt{1 + (\\lambda (1 - p) )^2} \\\\\n",
    "    & y = \\lambda \\left( \\frac{\\rho}{\\rho_{max}} - p \\right)\n",
    "\\end{align*}\n",
    "$$\n",
    "Положим, что параметры фундаментальной диаграммы зависят от $\\omega$:\n",
    "$$\n",
    "\\begin{align*}\n",
    "    & \\alpha = \\alpha(\\omega)\n",
    "    & \\lambda = \\lambda(\\omega)\n",
    "    & p = p(\\omega)\n",
    "\\end{align*}\n",
    "$$\n",
    "Алгоритм определения этой зависимсоти будет дан позже."
   ]
  },
  {
   "cell_type": "markdown",
   "metadata": {},
   "source": [
    "Скорость потока задается следующим образом:\n",
    "$$\n",
    "V(\\rho, \\omega) = \\begin{cases}\n",
    "    & \\frac{Q(\\rho, \\omega)}{\\rho} & ,\\rho > 0 \\\\\n",
    "    & Q_\\rho(0, \\omega) & ,\\rho = 0\n",
    "\\end{cases}\n",
    "$$"
   ]
  },
  {
   "cell_type": "markdown",
   "metadata": {},
   "source": [
    "### Часть 2. Разностная схема"
   ]
  },
  {
   "cell_type": "markdown",
   "metadata": {},
   "source": [
    "Сделаем замену $y := \\rho \\omega$.\n",
    "Тогда система уравнений может быть переписана в виде:\n",
    "$$\n",
    "\\begin{cases}\n",
    "    & \\rho_t + (\\rho u)_x = 0 \\\\\n",
    "    & y_t + (u y)_x = 0 \\\\\n",
    "    & u = V(\\rho, y/\\rho)\n",
    "\\end{cases}\n",
    "$$"
   ]
  },
  {
   "cell_type": "markdown",
   "metadata": {},
   "source": [
    "Обозначим $\\mathbf{U} = (\\rho, y)$ и $\\mathbf{F}(\\mathbf{U}) = (\\rho u, u y)$. <br>\n",
    "Тогда уравнения можно записать так:\n",
    "$$\n",
    "\\mathbf{U}_t + \\mathbf{F}_x(\\mathbf{U}) = 0\n",
    "$$"
   ]
  },
  {
   "cell_type": "markdown",
   "metadata": {},
   "source": [
    "Для численного приближения данной системы будем использовать метод Годунова.\n",
    "Основная идея в применении следующей аппроксимации:\n",
    "$$\n",
    "\\mathbf{U}^n_i \\approx \\frac{1}{\\Delta x} \\int\\limits_{x_{i - 1/2}}^{x_{i + 1/2}} \\mathbf{U}(x, t_n) dx\n",
    "$$"
   ]
  },
  {
   "cell_type": "markdown",
   "metadata": {},
   "source": [
    "Конечно-разностная аппроксимация исходных уравнений выглядит как:\n",
    "$$\n",
    "\\mathbf{U}^{n+1}_i = \\mathbf{U}^{n}_i - \\frac{\\Delta t}{\\Delta x} \\left(\n",
    "    \\mathbf{F}^n_{i+1/2} - \\mathbf{F}^n_{i-1/2}\n",
    "\\right)\n",
    "$$"
   ]
  },
  {
   "cell_type": "markdown",
   "metadata": {},
   "source": [
    "Где значения потока $\\mathbf{F}$ в полуцелых узлах записывается как:\n",
    "$$\n",
    "\\begin{align*}\n",
    "    & \\mathbf{F}^n_{i + 1/2} = \\mathbf{F}( \\mathcal{R}( \\mathbf{U}^n_{i} , \\mathbf{U}^n_{i+1} ) ) \\\\\n",
    "    & \\mathbf{F}^n_{i - 1/2} = \\mathbf{F}( \\mathcal{R}( \\mathbf{U}^n_{i-1} , \\mathbf{U}^n_{i} ) )\n",
    "\\end{align*}\n",
    "$$\n",
    "Где $\\mathcal{R}(\\mathbf{U}_L, \\mathbf{U}_R)$ обозначает решение задачи Римана для начальных состояний $\\mathbf{U}_L$  и $\\mathbf{U}_R$"
   ]
  },
  {
   "cell_type": "markdown",
   "metadata": {},
   "source": [
    "Перепишем эти уравнения покомпонентно:\n",
    "$$\n",
    "\\begin{align*}\n",
    "    & \\rho^{n+1}_j = \\rho^{n}_j - \\frac{\\Delta t}{\\Delta x} \\left( Q^{n}_{j+1/2} - Q^{n}_{j-1/2} \\right) \\\\\n",
    "    & y^{n+1}_j = y^{n}_j - \\frac{\\Delta t}{\\Delta x} \\left( \\omega^n_{j} Q^{n}_{j+1/2} - \\omega^n_{j-1} Q^{n}_{j-1/2} \\right)\n",
    "\\end{align*}\n",
    "$$\n",
    "Где $\\omega^n_j = y^n_j / \\rho^n_j$"
   ]
  },
  {
   "cell_type": "markdown",
   "metadata": {},
   "source": [
    "Опишем решение задачи Римана.<br>\n",
    "\"Входной\" и \"выходной\" потоки обозначим как $\\mathbf{U}_L = (\\rho_L, \\rho_L \\omega_L)$ и $\\mathbf{U}_R = (\\rho_R, \\rho_R \\omega_R)$ соответственно."
   ]
  },
  {
   "cell_type": "markdown",
   "metadata": {},
   "source": [
    "Используемое нами решение основано на функциях \"отправки\" и \"получения\":\n",
    "$$\n",
    "\\begin{align*}\n",
    "    & S(\\rho_L, u_L, \\omega_L) = \\begin{cases}\n",
    "        & \\rho_L u_L \n",
    "        &,\\rho_L \\leq \\rho_c(\\omega_L) \\\\\n",
    "        & Q^{max}_{\\omega_L}\n",
    "        &,\\rho_L > \\rho_c(\\omega_L)\n",
    "    \\end{cases} \\\\\n",
    "    & R(\\rho_M, u_M, \\omega_L) = \\begin{cases}\n",
    "        & Q^{max}_{\\omega_L}\n",
    "        &,\\rho_M \\leq \\rho_c(\\omega_L) \\\\\n",
    "        & \\rho_M u_M\n",
    "        &,\\rho_M > \\rho_c(\\omega_L)\n",
    "    \\end{cases}\n",
    "\\end{align*}\n",
    "$$\n",
    "Где $\\rho_c(\\omega_L)$ критическая плотность при заданном параметре $\\omega_L$."
   ]
  },
  {
   "cell_type": "markdown",
   "metadata": {},
   "source": [
    "Промежуточные значения плотности и скорости задаются как:\n",
    "$$\n",
    "\\begin{align*}\n",
    "    & \\rho_M(\\omega_L, u_R) = \\mathrm{argmin}_\\rho \\left( u_R - V(\\rho, \\omega_L)\\right) \\\\\n",
    "    & u_M(\\omega_L, u_R) = \\min \\left\\{ V(0,\\omega_L), u_R \\right\\}\n",
    "\\end{align*}\n",
    "$$"
   ]
  },
  {
   "cell_type": "markdown",
   "metadata": {},
   "source": [
    "Таким образом, промежуточные значения потока вычисляются следующим образом:\n",
    "$$\n",
    "\\mathcal{R}(\\mathbf{U}_L, \\mathbf{U}_R) = \\min \\left\\{\n",
    "    S(\\rho_L, u_L, \\omega_L), R(\\rho_M, u_M, \\omega_L) \n",
    "\\right\\}\n",
    "$$"
   ]
  },
  {
   "cell_type": "markdown",
   "metadata": {},
   "source": [
    "### Часть 3. Алгоритм"
   ]
  },
  {
   "cell_type": "markdown",
   "metadata": {},
   "source": [
    "Опишем алгоритм:\n",
    "1. Находим параметр $\\omega$:\n",
    "    $$\n",
    "    \\omega^n_j = \\frac{y^n_j}{\\rho^n_j}\n",
    "    $$\n",
    "    Где $j=1,\\ldots,N$\n",
    "1. Находим скорости в узлах:\n",
    "    $$\n",
    "        u^n_{j} = V(\\rho^n_j, \\omega^n_j)\n",
    "    $$\n",
    "    Где $j=1 \\ldots, N$\n",
    "1. Находим промежуточные скорости:\n",
    "    $$\n",
    "    \\begin{align*}\n",
    "        & u^n_{j-1/2} = \\min \\left\\{ V(0, \\omega^n_{j-1}), u^n_{j}) \\right\\}\n",
    "    \\end{align*}\n",
    "    $$\n",
    "    Где $j=2, \\dots, N$\n",
    "1. Находим промежуточные плотности:\n",
    "    $$\n",
    "    \\begin{align*}\n",
    "        & \\rho^n_{j-1/2} = \\mathrm{argmin}_{\\rho} \\left( u^n_j - V(\\rho, \\omega^n_{j-1}) \\right)\n",
    "    \\end{align*}\n",
    "    $$\n",
    "    Где $j=2, \\ldots, N$\n",
    "\n",
    "2. Находим функции отправки и получения:\n",
    "    $$\n",
    "    \\begin{align*}\n",
    "        & S^n_{j-1/2} = S(\\rho^n_{j-1}, u^n_{j-1}, \\omega^n_{j-1}) \\\\\n",
    "        & R^n_{j-1/2} = R(\\rho^n_{j-1/2}, u^n_{j-1/2}, \\omega^n_{j-1})\n",
    "    \\end{align*}\n",
    "    $$\n",
    "    Где $j=2,\\ldots,N$\n",
    "    \n",
    "6. Учитываем граничные условия посредством функций отправки и получения:\n",
    "    $$\n",
    "    \\begin{align*}\n",
    "        & S^n_{1/2}, R^n_{1/2} \\text{-- левая граница} \\\\\n",
    "        & S^n_{N+1/2}, R^n_{N+1/2} \\text{-- правая граница}\n",
    "    \\end{align*}\n",
    "    $$\n",
    "\n",
    "5. Находим интенсивность потока:\n",
    "    $$\n",
    "    Q^n_{j-1/2} = \\min \\left\\{ S^n_{j-1/2}, R^n_{j-1/2} \\right\\}\n",
    "    $$\n",
    "    Где $j=1,\\ldots,N+1$\n",
    "\n",
    "6. Находим состояние системы на следующем временном шаге:\n",
    "    $$\n",
    "    \\begin{align*}\n",
    "        & \\rho^{n+1}_j = \\rho^{n}_j - \\frac{\\Delta t}{\\Delta x} \\left( Q^{n}_{j+1/2} - Q^{n}_{j-1/2} \\right) \\\\\n",
    "        & y^{n+1}_j = y^{n}_j - \\frac{\\Delta t}{\\Delta x} \\left( \\omega^n_{j} Q^{n}_{j+1/2} - \\omega^n_{j-1} Q^{n}_{j-1/2} \\right)\n",
    "    \\end{align*}\n",
    "    $$\n",
    "    Где $j=1,\\ldots,N$"
   ]
  },
  {
   "cell_type": "code",
   "execution_count": null,
   "metadata": {},
   "outputs": [],
   "source": []
  }
 ],
 "metadata": {
  "kernelspec": {
   "display_name": "Python 3",
   "language": "python",
   "name": "python3"
  },
  "language_info": {
   "codemirror_mode": {
    "name": "ipython",
    "version": 3
   },
   "file_extension": ".py",
   "mimetype": "text/x-python",
   "name": "python",
   "nbconvert_exporter": "python",
   "pygments_lexer": "ipython3",
   "version": "3.7.3"
  }
 },
 "nbformat": 4,
 "nbformat_minor": 2
}
